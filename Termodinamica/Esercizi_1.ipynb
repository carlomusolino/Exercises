{
  "nbformat": 4,
  "nbformat_minor": 0,
  "metadata": {
    "colab": {
      "name": "Esercizi_1.ipynb",
      "provenance": [],
      "collapsed_sections": [],
      "authorship_tag": "ABX9TyPdLxQHWFYi620BiyLwwy3v",
      "include_colab_link": true
    },
    "kernelspec": {
      "name": "python3",
      "display_name": "Python 3"
    },
    "language_info": {
      "name": "python"
    }
  },
  "cells": [
    {
      "cell_type": "markdown",
      "metadata": {
        "id": "view-in-github",
        "colab_type": "text"
      },
      "source": [
        "<a href=\"https://colab.research.google.com/github/carlomusolino/Exercises/blob/main/Termodinamica/Esercizi_1.ipynb\" target=\"_parent\"><img src=\"https://colab.research.google.com/assets/colab-badge.svg\" alt=\"Open In Colab\"/></a>"
      ]
    },
    {
      "cell_type": "code",
      "metadata": {
        "id": "RbvDT4ceHVeq"
      },
      "source": [
        "# Librerie, ignorale pure : ) \n",
        "import matplotlib.pyplot as plt\n",
        "import numpy as np \n",
        "from scipy.interpolate import interp1d \n",
        "import sys \n",
        "import os \n",
        "import seaborn as sns\n",
        "\n",
        "cm = lambda n : sns.color_palette(\"rocket\",n) \n",
        "\n",
        "#Costanti: \n",
        "\n",
        "R = 8.31\n",
        "cal_to_J = 4.186\n",
        "bar_to_Pascal = 100000\n",
        "cm3_to_m3 = 1e-06\n",
        "atm_to_Pascal = 101325\n",
        "\n"
      ],
      "execution_count": 23,
      "outputs": []
    },
    {
      "cell_type": "markdown",
      "metadata": {
        "id": "pE7vKr8xHhDC"
      },
      "source": [
        "**ESERCIZI TERMODINAMICA E CALORIMETRIA** "
      ]
    },
    {
      "cell_type": "markdown",
      "metadata": {
        "id": "T35P1xKDZxQH"
      },
      "source": [
        "$$\n",
        "m_{metallo}=0.1kg\\\\\n",
        "m_{H_2O}=0.5kg\\\\\n",
        "m_{recipiente} = 0.2kg \\\\\n",
        "T_{metallo} = 373.15 K \\\\\n",
        "T_{H_2O} = 294.45 K \\\\\n",
        "T_{recipiente} = T_{H_2O}\n",
        "$$\n"
      ]
    },
    {
      "cell_type": "code",
      "metadata": {
        "id": "hvz5Dvy4asFT"
      },
      "source": [
        "m1 = 0.1\n",
        "m2 = 0.5 \n",
        "m3 = 0.2 \n",
        "T1 = 373.15\n",
        "T2 = 290.45\n",
        "Tf = 295.84999999999997\n",
        "c2 = 4186 \n"
      ],
      "execution_count": null,
      "outputs": []
    },
    {
      "cell_type": "code",
      "metadata": {
        "id": "dcg7-RuqcAnK"
      },
      "source": [
        ""
      ],
      "execution_count": null,
      "outputs": []
    },
    {
      "cell_type": "markdown",
      "metadata": {
        "id": "R_KGn6nka5Kk"
      },
      "source": [
        "$$\n",
        "\\delta Q_{metallo} = - ( \\delta Q_{H_2O} + \\delta Q_{recipiente} )  \\\\\n",
        "\\delta Q_{i} = c_i m_i \\Delta T_i  \n",
        "$$\n",
        "\n",
        "$$\n",
        "c_{metallo} = \\frac{- c_{H_2O}m_{H_2O}\\Delta T_{H_2O}}{m_{metallo} \\Delta T_{metallo} + m_{recipiente} \\Delta T_{H_2O}}\n",
        "$$\n"
      ]
    },
    {
      "cell_type": "code",
      "metadata": {
        "colab": {
          "base_uri": "https://localhost:8080/"
        },
        "id": "tSt_AkXCbXyC",
        "outputId": "08134c54-444d-40e6-fe98-530f1fc9e2d9"
      },
      "source": [
        "c1 = (- c2 * m2 * (Tf - T2) )/(m1*(Tf-T1) + m3*(Tf-T2))\n",
        "print(\"Calore specifico del metallo: {}\".format(c1))"
      ],
      "execution_count": null,
      "outputs": [
        {
          "output_type": "stream",
          "text": [
            "Calore specifico del metallo: 1699.5789473684124\n"
          ],
          "name": "stdout"
        }
      ]
    },
    {
      "cell_type": "markdown",
      "metadata": {
        "id": "3qiJ0OgT11sh"
      },
      "source": [
        "**Esercizio 2**\n",
        "$$\n",
        "c_{l} = c_{H_2O} = 4186 \\frac{J}{kg\\,K}\\\\\n",
        "\\lambda_{H_2O} = 2272\\,\\frac{kJ}{kg}\\\\\n",
        "T_l = 5^\\circ C \\\\\n",
        "T_{H_2O} = 100^\\circ C \\\\\n",
        "T_{f} = 22.7^\\circ C\n",
        "$$\n",
        "\n",
        "$$\n",
        "\\delta Q_{l} = -  \\delta Q_{H_2O} \\\\\n",
        "c \\, m_l \\Delta T_l = \\lambda\\, m_{H_2O} - c\\, m_{H_2O} \\Delta T_{H_2O} \n",
        "$$"
      ]
    },
    {
      "cell_type": "code",
      "metadata": {
        "id": "eEX2P6lDcyh6",
        "colab": {
          "base_uri": "https://localhost:8080/"
        },
        "outputId": "a59f6af1-f18b-4d88-dccc-23cacba951e4"
      },
      "source": [
        "c = 4186\n",
        "lamb = 2272e03 \n",
        "Tl = 5+273.15\n",
        "Tv = 100+273.15\n",
        "Tf = 22.7+273.15 \n",
        "\n",
        "\n",
        "mv_ml = (c * (Tf-Tl))/(- lamb - c * (Tf - Tv))\n",
        "\n",
        "print(\"m_l / m_tot : {}%\".format(100/1+mv_ml))"
      ],
      "execution_count": null,
      "outputs": [
        {
          "output_type": "stream",
          "text": [
            "m_l / m_tot : 99.96197323146903%\n"
          ],
          "name": "stdout"
        }
      ]
    },
    {
      "cell_type": "markdown",
      "metadata": {
        "id": "VvEZtdzR4Yz_"
      },
      "source": [
        "**Esercizio 1 (Gas perfetti)**\n",
        "$$\n",
        "P_A = 300 kPa \\\\\n",
        "P_B = 100 kPa \\\\ \n",
        "V_A = 6 l \\\\ \n",
        "V_B = 2 l \\\\\n",
        "$$"
      ]
    },
    {
      "cell_type": "code",
      "metadata": {
        "colab": {
          "base_uri": "https://localhost:8080/"
        },
        "id": "wTLIspMo3I_8",
        "outputId": "665a5068-1e50-4d55-d841-71de91872079"
      },
      "source": [
        "PA = 300e03\n",
        "PB = 100e03\n",
        "VA = 6e-03\n",
        "VB = 2e-03 \n",
        "n = 0.5 \n",
        "\n",
        "W = -(  PB*(VA-VB) + (PA-PB)*(VA-VB)/2 ) \n",
        "print(\"Lavoro compiuto dal gas : {}J\".format(W))"
      ],
      "execution_count": null,
      "outputs": [
        {
          "output_type": "stream",
          "text": [
            "Lavoro compiuto dal gas : -800.0J\n"
          ],
          "name": "stdout"
        }
      ]
    },
    {
      "cell_type": "code",
      "metadata": {
        "colab": {
          "base_uri": "https://localhost:8080/"
        },
        "id": "YpkNCgFD5Sjj",
        "outputId": "e1f54e25-7b3e-42be-e0fc-7280678e61cd"
      },
      "source": [
        "TA = PA * VA / ( n * R )\n",
        "TB = PB * VB / ( n * R )\n",
        "dU = 3 / 2 * n * R * (TB - TA)\n",
        "\n",
        "print(\"Variazione di Energia interna: {:.2f} J \".format(dU))"
      ],
      "execution_count": null,
      "outputs": [
        {
          "output_type": "stream",
          "text": [
            "Variazione di Energia interna: -2399.9999999999995 J \n"
          ],
          "name": "stdout"
        }
      ]
    },
    {
      "cell_type": "code",
      "metadata": {
        "colab": {
          "base_uri": "https://localhost:8080/"
        },
        "id": "rmqpKvch5g2T",
        "outputId": "08baf6c5-83a5-4c83-94ac-5617ca7c0cec"
      },
      "source": [
        "dQ = dU + W\n",
        "print(\"Calore scambiato dal sistema: {}J\".format(dQ))"
      ],
      "execution_count": null,
      "outputs": [
        {
          "output_type": "stream",
          "text": [
            "Calore scambiato dal sistema: -3199.9999999999995J\n"
          ],
          "name": "stdout"
        }
      ]
    },
    {
      "cell_type": "markdown",
      "metadata": {
        "id": "7-1CwgQZ6wyL"
      },
      "source": [
        "**Esercizio 3**\n",
        "$$\n",
        "C_V = 6 \\frac{cal}{mol K} \\\\ \n",
        "n = 3 mol\\\\ \n",
        "\\Delta T = 50 K \n",
        "$$"
      ]
    },
    {
      "cell_type": "code",
      "metadata": {
        "colab": {
          "base_uri": "https://localhost:8080/"
        },
        "id": "Wo_N7Nmo6XhC",
        "outputId": "f5b0aee3-876b-4751-e473-b26400c84cc4"
      },
      "source": [
        "cV = 6 * cal_to_J \n",
        "cP = R + cV\n",
        "n = 3 \n",
        "dT = 50 \n",
        "\n",
        "\n",
        "n_gl = 2 * cV / R \n",
        "print(\"Numero di gradi di libertà: {}\".format(int(n_gl)))"
      ],
      "execution_count": null,
      "outputs": [
        {
          "output_type": "stream",
          "text": [
            "Numero di gradi di libertà: 6\n"
          ],
          "name": "stdout"
        }
      ]
    },
    {
      "cell_type": "markdown",
      "metadata": {
        "id": "fTutIo317VhI"
      },
      "source": [
        "Isocora"
      ]
    },
    {
      "cell_type": "code",
      "metadata": {
        "colab": {
          "base_uri": "https://localhost:8080/"
        },
        "id": "prZi6BYx7Uzl",
        "outputId": "b9a05c38-0875-4d77-b789-af789984bf96"
      },
      "source": [
        "dU = n * cV * dT \n",
        "W = 0\n",
        "dQ = dU \n",
        "\n",
        "print(\"Variazione di Energia interna: {:.2f} J\".format(dU))\n",
        "print(\"Calore scambiato: {:.2f} J\".format(dQ))\n",
        "print(\"Lavoro compiuto dal gas: {:.2f} J\".format(W))"
      ],
      "execution_count": null,
      "outputs": [
        {
          "output_type": "stream",
          "text": [
            "Variazione di Energia interna: 3767.4J\n",
            "Calore scambiato: 3767.4J\n",
            "Lavoro compiuto dal gas: 0J\n"
          ],
          "name": "stdout"
        }
      ]
    },
    {
      "cell_type": "markdown",
      "metadata": {
        "id": "lbA04vbV7rTJ"
      },
      "source": [
        "Isobara"
      ]
    },
    {
      "cell_type": "code",
      "metadata": {
        "colab": {
          "base_uri": "https://localhost:8080/"
        },
        "id": "-QYZ-6O47JRR",
        "outputId": "2e686fc0-b2c5-4240-9e21-ef89eafa64bf"
      },
      "source": [
        "W = n*R*dT \n",
        "dQ = n * cP * dT \n",
        "dU = dQ - W \n",
        "\n",
        "print(\"Variazione di Energia interna: {:.2f} J\".format(dU))\n",
        "print(\"Calore scambiato: {:.2f} J\".format(dQ))\n",
        "print(\"Lavoro compiuto dal gas: {:.2f} J\".format(W))"
      ],
      "execution_count": null,
      "outputs": [
        {
          "output_type": "stream",
          "text": [
            "Variazione di Energia interna: 3767.40J\n",
            "Calore scambiato: 5013.90J\n",
            "Lavoro compiuto dal gas: 1246.50J\n"
          ],
          "name": "stdout"
        }
      ]
    },
    {
      "cell_type": "markdown",
      "metadata": {
        "id": "gYe77w6k81hc"
      },
      "source": [
        "Adiabatica"
      ]
    },
    {
      "cell_type": "code",
      "metadata": {
        "colab": {
          "base_uri": "https://localhost:8080/"
        },
        "id": "2MTFYEU_728k",
        "outputId": "6f221c6a-ba9d-41d2-ee7b-7029a7438ab7"
      },
      "source": [
        "dU = n * cV * dT \n",
        "dQ = 0 \n",
        "W  = - dU \n",
        "\n",
        "print(\"Variazione di Energia interna: {:.2f} J\".format(dU))\n",
        "print(\"Calore scambiato: {:.2f} J\".format(dQ))\n",
        "print(\"Lavoro compiuto dal gas: {:.2f} J\".format(W))"
      ],
      "execution_count": null,
      "outputs": [
        {
          "output_type": "stream",
          "text": [
            "Variazione di Energia interna: 3767.40J\n",
            "Calore scambiato: 0.00J\n",
            "Lavoro compiuto dal gas: -3767.40J\n"
          ],
          "name": "stdout"
        }
      ]
    },
    {
      "cell_type": "markdown",
      "metadata": {
        "id": "R1VqGj-sDm3I"
      },
      "source": [
        "**Esercizio 2** \n",
        "$$\n",
        "P_A = 1 bar\\\\\n",
        "V_A = 10 cm^3 \\\\\n",
        "P_B = 2 bar\\\\\n",
        "V_B = V_A \\\\\n",
        "P_C = P_B \\\\ \n",
        "V_C = 30 cm^3 \\\\\n",
        "P_D = P_A \\\\\n",
        "V_D = V_C \\\\\n",
        "$$"
      ]
    },
    {
      "cell_type": "code",
      "metadata": {
        "id": "J7hF_bE69GsO"
      },
      "source": [
        "\n",
        "Pa = 1 * bar_to_Pascal\n",
        "Pb = 2 * bar_to_Pascal\n",
        "Pc = Pb\n",
        "Pd = Pa \n",
        "Va = 10 * cm3_to_m3\n",
        "Vc = 30 * cm3_to_m3 \n",
        "Vb = Va \n",
        "Vd = Vc \n",
        "n_gl = 5 \n",
        "\n"
      ],
      "execution_count": 2,
      "outputs": []
    },
    {
      "cell_type": "markdown",
      "metadata": {
        "id": "w0uHbE_IEwXm"
      },
      "source": [
        "$$\n",
        "\\delta Q_{ADC} = d U_{ADC} + L_{ADC} \\\\\n",
        "dU_{ADC} = n c_V dT = \\frac{n_{gl}}{2} \\left (\\ P_C\\,V_C - P_A \\,V_A \\right )\\ \\\\\n",
        "L_{ADC} = P_A \\Delta V_{CA}\n",
        "$$"
      ]
    },
    {
      "cell_type": "code",
      "metadata": {
        "colab": {
          "base_uri": "https://localhost:8080/"
        },
        "id": "gJ6Dz9_pFcpj",
        "outputId": "4a694cb1-9c3b-4610-caa8-9d261a89cf67"
      },
      "source": [
        "nRdT = Pc*Vc - Pa*Va\n",
        "dU_ADC = n_gl / 2 * nRdT\n",
        "L_ADC = Pa * (Vc - Va)\n",
        "dQ_ADC = dU_ADC + L_ADC\n",
        "print(\"Calore scambiato nella trasformazione ADC: {:.2f} J\".format(dQ_ADC)) \n",
        "print(\"Variazione dell'energia interna: {:.2f} J\".format(dU_ADC))"
      ],
      "execution_count": 5,
      "outputs": [
        {
          "output_type": "stream",
          "text": [
            "Calore scambiato nella trasformazione ADC: 14.50 J\n",
            "Variazione dell'energia interna: 12.50 J\n"
          ],
          "name": "stdout"
        }
      ]
    },
    {
      "cell_type": "code",
      "metadata": {
        "colab": {
          "base_uri": "https://localhost:8080/"
        },
        "id": "S--Lgqv0F4k1",
        "outputId": "877a8e30-c4d8-4484-e88a-5c205a3f8c06"
      },
      "source": [
        "L_CA = -2.80\n",
        "dQ_CA = - dU_ADC - L_CA \n",
        "print(\"Calore necessario per la trasformazione diretta: {:.2f} J\".format(dQ_CA)) "
      ],
      "execution_count": 6,
      "outputs": [
        {
          "output_type": "stream",
          "text": [
            "Calore necessario per la trasformazione diretta: -9.70 J\n"
          ],
          "name": "stdout"
        }
      ]
    },
    {
      "cell_type": "markdown",
      "metadata": {
        "id": "2pHeBuXWHO8h"
      },
      "source": [
        "**Esercizio 4** \n"
      ]
    },
    {
      "cell_type": "code",
      "metadata": {
        "colab": {
          "base_uri": "https://localhost:8080/",
          "height": 356
        },
        "id": "j4FVOjtPGp8l",
        "outputId": "6e2d4878-9544-471f-c126-cd8a6ec462b3"
      },
      "source": [
        "\n",
        "x = np.linspace(0,373,100)\n",
        "P1 = [1,3,6]\n",
        "P = [p * atm_to_Pascal for p in P1]\n",
        "fig = plt.figure(figsize=[5,5])\n",
        "ax = plt.subplot(111)\n",
        "colors = cm(len(P))\n",
        "\n",
        "\n",
        "for i,p in enumerate(P):\n",
        "  y = R * x / p \n",
        "  ax.plot(x,y,label=(\"P={:.2f}atm\".format(P1[i])),color=colors[i])\n",
        "\n",
        "\n",
        "ax.set_xlabel(r\" $T$ [$K$]\")\n",
        "ax.set_ylabel(r\"$\\sigma$\")\n",
        "ax.set_title(r\"$\\sigma(T)$ isobara\")\n",
        "ax.legend()\n",
        "ax.grid(\"on\")\n",
        "plt.show()\n"
      ],
      "execution_count": 54,
      "outputs": [
        {
          "output_type": "display_data",
          "data": {
            "image/png": "[encoded data removed]",
            "text/plain": [
              "<Figure size 360x360 with 1 Axes>"
            ]
          },
          "metadata": {
            "tags": [],
            "needs_background": "light"
          }
        }
      ]
    },
    {
      "cell_type": "code",
      "metadata": {
        "colab": {
          "base_uri": "https://localhost:8080/",
          "height": 354
        },
        "id": "jwZbXuNZIPXo",
        "outputId": "a134c6dd-7034-4ca8-df46-9fcd4a7cc5a1"
      },
      "source": [
        "T = [273.15,273.15+500,273.15+100]\n",
        "x = np.linspace(.5*atm_to_Pascal,5*atm_to_Pascal,100)\n",
        "fig = plt.figure(figsize=[5,5])\n",
        "ax = plt.subplot(111)\n",
        "colors = cm(len(T))\n",
        "\n",
        "\n",
        "for i,t in enumerate(T):\n",
        "  y = R * t / x \n",
        "  ax.plot(x,y,color=colors[i],label=\"T={:.2f}K\".format(t))\n",
        "\n",
        "ax.set_xlabel(r\"$P$ [$Pa$]\")\n",
        "ax.set_ylabel(r\"$\\sigma$\")\n",
        "ax.set_title(\"Compressione isoterma\")\n",
        "ax.legend()\n",
        "plt.show()\n"
      ],
      "execution_count": 55,
      "outputs": [
        {
          "output_type": "display_data",
          "data": {
            "image/png": "[encoded data removed]",
            "text/plain": [
              "<Figure size 360x360 with 1 Axes>"
            ]
          },
          "metadata": {
            "tags": [],
            "needs_background": "light"
          }
        }
      ]
    },
    {
      "cell_type": "code",
      "metadata": {
        "id": "WyF3f98LLom2"
      },
      "source": [
        ""
      ],
      "execution_count": null,
      "outputs": []
    },
    {
      "cell_type": "markdown",
      "metadata": {
        "id": "Lj7XOnddL1ZK"
      },
      "source": [
        "**Esercizio 5** "
      ]
    },
    {
      "cell_type": "code",
      "metadata": {
        "id": "FMU-D0cSL4s5"
      },
      "source": [
        "n = .86\n",
        "Pa = 105e03\n",
        "Va = 20e-03\n",
        "Vb = 35e-03\n",
        "Tb = 427 + 273.15"
      ],
      "execution_count": 56,
      "outputs": []
    },
    {
      "cell_type": "markdown",
      "metadata": {
        "id": "FFckYrMuMJWR"
      },
      "source": [
        "$$\n",
        "dU_{ADB} = dU_{ACB} \\equiv dU_{AB}\n",
        "$$\n",
        "Poiché U è una funzione di stato! \n",
        "$$\n",
        "dU_{AB} = n c_V \\Delta T_{AB}\n",
        "$$"
      ]
    },
    {
      "cell_type": "code",
      "metadata": {
        "colab": {
          "base_uri": "https://localhost:8080/"
        },
        "id": "qjM0vywEMZqD",
        "outputId": "076e639d-2179-4c74-983c-a664bffe8790"
      },
      "source": [
        "Ta = Pa * Va /  ( n *  R )\n",
        "#print(Ta)\n",
        "dU_AB = n * 5 / 2 * R * (Tb - Ta)\n",
        "print(\"La variazione di Energia interna fra i due stati è : {:.2f} kJ \".format(dU_AB*1e-03))"
      ],
      "execution_count": 58,
      "outputs": [
        {
          "output_type": "stream",
          "text": [
            "La variazione di Energia interna fra i due stati è : 7.26 kJ \n"
          ],
          "name": "stdout"
        }
      ]
    },
    {
      "cell_type": "code",
      "metadata": {
        "colab": {
          "base_uri": "https://localhost:8080/"
        },
        "id": "YIkSI926MpPT",
        "outputId": "6a6618bb-c91a-4210-e6a7-c00e5eb0e0fd"
      },
      "source": [
        "L_ACB = n * R * Tb * np.log(Vb / Va)\n",
        "L_ADB = Pa * (Vb - Va)\n",
        "print(\"Lavoro lungo ACB: {:.2f} J\".format(L_ACB))\n",
        "print(\"Lavoro lungo ADB: {:.2f} J\".format(L_ADB))"
      ],
      "execution_count": 64,
      "outputs": [
        {
          "output_type": "stream",
          "text": [
            "Lavoro lungo ACB: 2800.15 J\n",
            "Lavoro lungo ADB: 1575.00 J\n"
          ],
          "name": "stdout"
        }
      ]
    },
    {
      "cell_type": "code",
      "metadata": {
        "colab": {
          "base_uri": "https://localhost:8080/"
        },
        "id": "ReVtg7BrNXeh",
        "outputId": "8bee640b-2fee-4fdb-dbc4-a9edf793e315"
      },
      "source": [
        "cp = 7/2 * R\n",
        "cv = 5/2 * R \n",
        "Tc = Tb\n",
        "Td = Pa * Vb / (n * R) \n",
        "dQ_AC =  cv * n * (Tc - Ta) # Questo dovrebbe essere uguale a dU_AB !! Sai spiegare perché?? \n",
        "dQ_DB = cv * n * (Tb - Td)\n",
        "print(\"Calore AC: {:.2f} kJ\".format(dQ_AC*1e-03))\n",
        "print(\"Calore DB: {:.2f} kJ\".format(dQ_DB*1e-03))\n",
        "\n",
        "# Controlliamo di aver fatto tutto giusto... \n",
        "dQ_AD = cp * n * (Td - Ta)\n",
        "print(\"dU Calcolato 'a pezzi' lungo ADB: {:.2f} kJ\".format( (dQ_AD + dQ_DB - L_ADB)*1e-03))\n"
      ],
      "execution_count": 65,
      "outputs": [
        {
          "output_type": "stream",
          "text": [
            "514.2305431953657\n",
            "Calore AC: 7.26 kJ\n",
            "Calore DB: 3.32 kJ\n",
            "dU Calcolato 'a pezzi' lungo ADB: 7.26 kJ\n"
          ],
          "name": "stdout"
        }
      ]
    },
    {
      "cell_type": "markdown",
      "metadata": {
        "id": "TQjYkLs4OdwO"
      },
      "source": [
        "**Esercizio 6**"
      ]
    },
    {
      "cell_type": "code",
      "metadata": {
        "colab": {
          "base_uri": "https://localhost:8080/"
        },
        "id": "q5j0mibLOhoW",
        "outputId": "7a523621-5a7c-4e27-9445-4676b0d7ffe7"
      },
      "source": [
        "n = 1 \n",
        "T1 = 300\n",
        "T2 = 600\n",
        "T3 = 455\n",
        "\n",
        "dU_12 = 3/2 * R * n * (T2 - T1)\n",
        "L_12 = 0\n",
        "dQ_12 = dU_12\n",
        "print(\"Processo 1->2: \\n dU = {:.2f} J \\n dQ = {:.2f} J \\n L = {:.2f} J\".format(dU_12,dQ_12,L_12))"
      ],
      "execution_count": 66,
      "outputs": [
        {
          "output_type": "stream",
          "text": [
            "Processo 1->2: \n",
            " dU = 3739.50 J \n",
            " dQ = 3739.50 J \n",
            " L = 0.00 J\n"
          ],
          "name": "stdout"
        }
      ]
    },
    {
      "cell_type": "code",
      "metadata": {
        "colab": {
          "base_uri": "https://localhost:8080/"
        },
        "id": "3Y0vKP2DOxV9",
        "outputId": "acfa1101-bcac-40fa-bc41-7dcdb2a3b4a1"
      },
      "source": [
        "dU_23 = 3/2 * R * n * (T3 - T2 )\n",
        "dQ_23 = 0\n",
        "L_23 = -dU_23 \n",
        "print(\"Processo 2->3: \\n dU = {:.2f} J \\n dQ = {:.2f} J \\n L = {:.2f} J\".format(dU_23,dQ_23,L_23))"
      ],
      "execution_count": 67,
      "outputs": [
        {
          "output_type": "stream",
          "text": [
            "Processo 2->3: \n",
            " dU = -1807.42 J \n",
            " dQ = 0.00 J \n",
            " L = 1807.42 J\n"
          ],
          "name": "stdout"
        }
      ]
    },
    {
      "cell_type": "code",
      "metadata": {
        "colab": {
          "base_uri": "https://localhost:8080/"
        },
        "id": "VxefYsetPS2g",
        "outputId": "0e60e881-14ab-4776-e2a5-eec885a61c9b"
      },
      "source": [
        "dU_31 = 3/2 * R * n * ( T1 - T3 )\n",
        "dQ_31 = 5/2 * R * n * ( T1 - T3 )\n",
        "L_31  = dQ_31 - dU_31\n",
        "\n",
        "print(\"Processo 3->1: \\n dU = {:.2f} J \\n dQ = {:.2f} J \\n L = {:.2f} J\".format(dU_31,dQ_31,L_31))"
      ],
      "execution_count": 68,
      "outputs": [
        {
          "output_type": "stream",
          "text": [
            "Processo 3->1: \n",
            " dU = -1932.08 J \n",
            " dQ = -3220.13 J \n",
            " L = -1288.05 J\n"
          ],
          "name": "stdout"
        }
      ]
    },
    {
      "cell_type": "code",
      "metadata": {
        "colab": {
          "base_uri": "https://localhost:8080/"
        },
        "id": "PoDPSs7NPzC6",
        "outputId": "89930fb3-8e32-42f3-db95-90510ee4a401"
      },
      "source": [
        "dU_t = dU_12 + dU_23 + dU_31\n",
        "dQ_t = dQ_12 + dQ_23 + dQ_31\n",
        "L_t = L_12 + L_23 + L_31 \n",
        "print(\"Ciclo: \\n dU = {:.2f} J \\n dQ = {:.2f} J \\n L = {:.2f} J\".format(dU_t,dQ_t,L_t))"
      ],
      "execution_count": 69,
      "outputs": [
        {
          "output_type": "stream",
          "text": [
            "Ciclo: \n",
            " dU = 0.00 J \n",
            " dQ = 519.37 J \n",
            " L = 519.37 J\n"
          ],
          "name": "stdout"
        }
      ]
    },
    {
      "cell_type": "code",
      "metadata": {
        "colab": {
          "base_uri": "https://localhost:8080/"
        },
        "id": "XcGxNtjXQBFw",
        "outputId": "b1f2b049-91b7-4673-b660-30c420f00085"
      },
      "source": [
        "P1 = 1.013 * bar_to_Pascal\n",
        "V1 = n * R * T1 / P1 \n",
        "V2 = V1 \n",
        "P2 = n * R * T2 / V2 \n",
        "\n",
        "P3 = P1  \n",
        "V3 = n * R * T3 / P3\n",
        "\n",
        "\n",
        "print(\"V_2 = {:.2f} l \\n P_2 = {:.2f} kPa\\n V_3 = {:.2f} l \\n P_3 = {:.2f} kPa\\n\".format(V2*1e03,P2*1e-03,V3*1e03,P3*1e-03))\n"
      ],
      "execution_count": 72,
      "outputs": [
        {
          "output_type": "stream",
          "text": [
            "V_2 = 24.61 l \n",
            " P_2 = 202.60 kPa\n",
            " V_3 = 37.33 l \n",
            " P_3 = 101.30 kPa\n",
            "\n"
          ],
          "name": "stdout"
        }
      ]
    },
    {
      "cell_type": "code",
      "metadata": {
        "id": "N6a5Q9XbRJFI"
      },
      "source": [
        ""
      ],
      "execution_count": null,
      "outputs": []
    },
    {
      "cell_type": "markdown",
      "metadata": {
        "id": "_kghDTF4alW8"
      },
      "source": [
        "\n",
        "**Esercizio 2** \n",
        "\n",
        "\n",
        "$$\n",
        "\\frac{\\Delta(PV)}{R} = n \\Delta\\,T\n",
        "$$\n",
        "\n"
      ]
    },
    {
      "cell_type": "code",
      "metadata": {
        "id": "qpHw_0_Kao_G",
        "outputId": "cba4ac42-3eba-4fd5-f938-dc21752483dc",
        "colab": {
          "base_uri": "https://localhost:8080/"
        }
      },
      "source": [
        "Va = 10e-06 # metri cubi\n",
        "Vd = Va \n",
        "Vc = 30e-06 # metri cubi\n",
        "Vd = Vc \n",
        "Pa = 1 * bar_to_Pascal # Pascal \n",
        "Pb = 2 * bar_to_Pascal # Pascal \n",
        "Pc = Pb\n",
        "Pd = Pa \n",
        "\n",
        "ndT_AD = (Pd*Vd - Pa*Va) / R # Usiamo l'equazione di stato dei Gas Perfetti ! \n",
        "ndT_DC = (Pc*Vc - Pd*Vd) / R\n",
        "#print(ndT_AD)\n",
        "#print(ndT_DC)\n",
        "\n",
        "dQ_AD = 7/2 * R * ndT_AD\n",
        "dQ_DC = 5/2 * R * ndT_DC \n",
        "\n",
        "print(\"Calore scambiato AD: {:.2f} J\".format(dQ_AD))\n",
        "print(\"Calore scambiato DC: {:.2f} J\".format(dQ_DC))\n",
        "\n"
      ],
      "execution_count": 51,
      "outputs": [
        {
          "output_type": "stream",
          "text": [
            "0.24067388688327315\n",
            "0.3610108303249097\n",
            "Calore scambiato AD: 7.00 J\n",
            "Calore scambiato DC: 7.50 J\n"
          ],
          "name": "stdout"
        }
      ]
    },
    {
      "cell_type": "code",
      "metadata": {
        "id": "jo15r7YlcW83",
        "outputId": "ff47b71b-9274-4ab3-b461-5a3b0a2f222e",
        "colab": {
          "base_uri": "https://localhost:8080/"
        }
      },
      "source": [
        "ndT_AC = (Pc*Vc - Pa*Va) / R \n",
        "dU_1 = 5/2 * R * ndT_AC # Calcolo diretto da d U = n cV d T \n",
        "\n",
        "L = (Vd - Va) * Pa \n",
        "dU_2 = dQ_AD + dQ_DC - L # Calcolo mediante il Primo Principio della Termodinamica\n",
        "\n",
        "print(\"Variazione energia interna (1o principio): {:.2f} J \".format(dU_2))\n",
        "print(\"Variazione energia interna (calcolo diretto): {:.2f} J \".format(dU_1))"
      ],
      "execution_count": 52,
      "outputs": [
        {
          "output_type": "stream",
          "text": [
            "Variazione energia interna (1o principio): 12.50 J \n",
            "Variazione energia interna (calcolo diretto): 12.50 J \n"
          ],
          "name": "stdout"
        }
      ]
    },
    {
      "cell_type": "code",
      "metadata": {
        "id": "z4SGeCZgc5L2",
        "outputId": "4eeeec15-cbaa-4319-e28d-009d7a2a72f7",
        "colab": {
          "base_uri": "https://localhost:8080/"
        }
      },
      "source": [
        "L_CA = -2.8 # il lavoro è compiuto sul sistema!! \n",
        "dU = -dU_1 # la trasformazione è inversa!!\n",
        "dQ_CA = L_CA  + dU \n",
        "\n",
        "print(\"Calore assorbito dal sistema nella trasformazione CA: {:.2f} J \".format(dQ_CA))\n"
      ],
      "execution_count": 53,
      "outputs": [
        {
          "output_type": "stream",
          "text": [
            "Calore assorbito dal sistema nella trasformazione CA: -15.30 J \n"
          ],
          "name": "stdout"
        }
      ]
    },
    {
      "cell_type": "code",
      "metadata": {
        "id": "Rko3pjI_f8hw"
      },
      "source": [
        ""
      ],
      "execution_count": null,
      "outputs": []
    }
  ]
}